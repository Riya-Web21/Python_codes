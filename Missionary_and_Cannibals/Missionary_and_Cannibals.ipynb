{
 "cells": [
  {
   "cell_type": "markdown",
   "metadata": {},
   "source": [
    "# Missionaries & Cannibals\n",
    "Create famous 3 missionaries 3 cannibals crossing the river game. Rules are as follows.<br>\n",
    "## Rules\n",
    "1. Number of `missionaries` on either side should never be less than number of `cannibals`\n",
    "2. Only one or 2 people can travel through boat at a time.\n",
    "3. You win the game when all `missionaries` and `cannibals` on the right go to the left side\n"
   ]
  },
  {
   "cell_type": "markdown",
   "metadata": {},
   "source": [
    "## STEP 1"
   ]
  },
  {
   "cell_type": "code",
   "execution_count": null,
   "metadata": {},
   "outputs": [],
   "source": [
    "# #initialize all the variables\n",
    "# boat_side=\"Right\"\n",
    "# canniblals_on_right = 3\n",
    "# missionary_on_right = 3\n",
    "# canniblals_on_left = 0\n",
    "# missionary_on_left = 0\n",
    "# print('M =' ,missionary_on_left,' C =' ,canniblals_on_left, '|🌊🌊🚢|' ,' M =',missionary_on_right, ' C =',canniblals_on_right)\n",
    "# print('BOAT SIDE = ',boat_side)\n"
   ]
  },
  {
   "cell_type": "markdown",
   "metadata": {},
   "source": [
    "## STEP 2"
   ]
  },
  {
   "cell_type": "code",
   "execution_count": null,
   "metadata": {},
   "outputs": [],
   "source": [
    "# #take the input from the user for the number on missinary and cannibals on either side \n",
    "# missionary=int(input(\"ENTER THE NUMBER OF MISSIONARY ON THE BOAT : \"))\n",
    "# canniblals=int(input(\"ENTER THE NUMBER OF CANNIBALS ON THE BOAT : \"))\n",
    "\n",
    "# #check the condition so that the total number of missionary or cannibal is not greater than 1 or 2 on the boat else move is invalid\n",
    "# if(missionary+canniblals) !=1 and (missionary+canniblals) !=2:\n",
    "#     print(\"OOPS ! INVALID MOVE : No. of person on boat must be either one or two !!!\")\n",
    "# missionary_on_left+=missionary\n",
    "# canniblals_on_left+=canniblals\n",
    "# missionary_on_right=missionary_on_right-missionary\n",
    "# canniblals_on_right=canniblals_on_right-canniblals\n",
    "# print('M =' ,missionary_on_left,' C =' ,canniblals_on_left, '|🚢🌊🌊|' ,' M =',missionary_on_right, ' C =',canniblals_on_right)\n"
   ]
  },
  {
   "cell_type": "code",
   "execution_count": null,
   "metadata": {},
   "outputs": [],
   "source": [
    "# #to check the side of the boat and the very respective conditoins\n",
    "# if boat_side==\"Right\":\n",
    "#     print(\"BOAT IS ON RIGHT SIDE \")\n",
    "# else:\n",
    "#     print(\"BOAT IS ON LEFT SIDE\")\n",
    "\n",
    "\n",
    "# if missionary_on_right < missionary or canniblals_on_right < canniblals :\n",
    "#             print('Invalid Move')"
   ]
  },
  {
   "cell_type": "markdown",
   "metadata": {},
   "source": [
    "## STEP 3"
   ]
  },
  {
   "cell_type": "code",
   "execution_count": null,
   "metadata": {},
   "outputs": [],
   "source": [
    "# #check the conditons for the right side abd left side \n",
    "\n",
    "# if boat_side==\"Right\":\n",
    "#     if(missionary_on_right<missionary) or (canniblals_on_right<canniblals):\n",
    "#         print(\"INVALID MOVE\")\n",
    "#     missionary_on_left+=missionary\n",
    "#     canniblals_on_left+=canniblals\n",
    "#     missionary_on_right=missionary_on_right-missionary\n",
    "#     canniblals_on_right=canniblals_on_right-canniblals  \n",
    "#     print('M =' ,missionary_on_left,' C =' ,canniblals_on_left, '|🚢🌊🌊|' ,' M =',missionary_on_right, ' C =',canniblals_on_right)\n",
    "#     boat_side=\"Left\" \n",
    "\n",
    "\n",
    "# #similarly we have to write the code for the left side Also\n",
    "    "
   ]
  },
  {
   "cell_type": "markdown",
   "metadata": {},
   "source": [
    "# Winning Or loosing condition\n"
   ]
  },
  {
   "cell_type": "code",
   "execution_count": null,
   "metadata": {},
   "outputs": [],
   "source": [
    "# #condition to loose \n",
    "# if (missionary_on_right<canniblals_on_right and missionary_on_right>0) or (missionary_on_left<canniblals_on_left and missionary_on_left>0):\n",
    "#     print(\"YOU LOOSE !!\")\n",
    "#     break\n",
    "# #condition to loose \n",
    "# if (missionary_on_left==3 and canniblals_on_left==3):\n",
    "#     print(\"YOU WIN !!\")\n",
    "#     break\n",
    "#  #works only inside a loop "
   ]
  },
  {
   "cell_type": "markdown",
   "metadata": {},
   "source": [
    "# Creating visually appealing output"
   ]
  },
  {
   "cell_type": "code",
   "execution_count": null,
   "metadata": {},
   "outputs": [],
   "source": [
    "# #initializing\n",
    "# user_interface =''\n",
    "# M = '\\U0001f482' \n",
    "# C = '\\U0001f479'\n",
    "# W = '\\U0001f30a'\n",
    "# B = '\\U0001f6A2'\n",
    "# D = '|'\n",
    "\n",
    "# def display():\n",
    "#     global missionary_on_left,canniblals_on_left,missionary_on_right,canniblals_on_right\n",
    "#     user_interface =''\n",
    "#     for i in range(missionary_on_left):\n",
    "#         user_interface +=M\n",
    "#     for i in range(canniblals_on_left):\n",
    "#         user_interface +=C\n",
    "#     user_interface += D    \n",
    "#     if boat_side==\"Right\":\n",
    "#         for i in range(3):\n",
    "#             user_interface +=W \n",
    "#             user_interface +=B\n",
    "#     else:\n",
    "#         user_interface +=B\n",
    "#         for i in range(3):\n",
    "#             user_interface +=W    \n",
    "#     user_interface += D \n",
    "#     for i in range(missionary_on_right):\n",
    "#         user_interface +=M \n",
    "#     for i in range(canniblals_on_right):\n",
    "#         user_interface+=C   \n",
    "#     print(user_interface)    \n",
    "\n",
    "# display()"
   ]
  },
  {
   "cell_type": "markdown",
   "metadata": {},
   "source": [
    "# FINAL CODE AFTER BRINGING ALL LOGIC TOGETHER"
   ]
  },
  {
   "cell_type": "code",
   "execution_count": 3,
   "metadata": {},
   "outputs": [
    {
     "name": "stdout",
     "output_type": "stream",
     "text": [
      "|🌊🌊🌊🚢|💂💂💂👹👹👹\n",
      "👹👹|🚢🌊🌊🌊|💂💂💂👹\n",
      "👹|🌊🌊🌊🚢|💂💂💂👹👹\n",
      "👹👹👹|🚢🌊🌊🌊|💂💂💂\n",
      "👹👹|🌊🌊🌊🚢|💂💂💂👹\n",
      "💂💂👹👹|🚢🌊🌊🌊|💂👹\n",
      "💂👹|🌊🌊🌊🚢|💂💂👹👹\n",
      "💂💂💂👹|🚢🌊🌊🌊|👹👹\n",
      "INVALID MOVE\n",
      "💂💂💂👹|🚢🌊🌊🌊|👹👹\n",
      "💂💂💂|🌊🌊🌊🚢|👹👹👹\n",
      "💂💂💂👹👹|🚢🌊🌊🌊|👹\n",
      "💂💂💂👹|🌊🌊🌊🚢|👹👹\n",
      "HURRAY !! YOU WIN !!\n"
     ]
    }
   ],
   "source": [
    "\n",
    "#initializing all the variables \n",
    "boat_side=\"Right\"\n",
    "missionary_on_right=3\n",
    "cannibals_on_right=3\n",
    "missionary_on_left=0\n",
    "cannibals_on_left=0\n",
    "missionary=0\n",
    "cannibals=0\n",
    "\n",
    "#initializing a display funtion for a visually appealing output\n",
    "user_interface =''\n",
    "M = '\\U0001f482' \n",
    "C = '\\U0001f479'\n",
    "W = '\\U0001f30a'\n",
    "B = '\\U0001f6A2'\n",
    "D = '|'\n",
    "\n",
    "def display():\n",
    "    global missionary_on_left,cannibals_on_left,missionary_on_right,cannibals_on_right\n",
    "    user_interface =''\n",
    "    for i in range(missionary_on_left):\n",
    "        user_interface +=M\n",
    "    for i in range(cannibals_on_left):\n",
    "        user_interface +=C\n",
    "    user_interface += D    \n",
    "    if boat_side==\"Right\":\n",
    "        for i in range(3):\n",
    "            user_interface +=W \n",
    "        user_interface +=B\n",
    "    else:\n",
    "        user_interface +=B\n",
    "        for i in range(3):\n",
    "            user_interface +=W    \n",
    "    user_interface += D \n",
    "    for i in range(missionary_on_right):\n",
    "        user_interface +=M \n",
    "    for i in range(cannibals_on_right):\n",
    "        user_interface+=C   \n",
    "    print(user_interface)    \n",
    "\n",
    "#for the while logic \n",
    "while True:\n",
    "    display()\n",
    "    #taking inputs and applying basic start conditions \n",
    "    missionary=int(input(\"ENTER THE NUMBER OF MISSIONARY ON THE BOAT or enter 10 to quit\"))\n",
    "    cannibals=int(input(\"ENTER THE NUMBER OF CANNIBALS ON THE BOAT : \"))\n",
    "    if missionary==10:\n",
    "         print(\"YOU QUIT!\")\n",
    "         break\n",
    "     \n",
    "    \n",
    "    if (missionary+cannibals)!=1 and (missionary+cannibals)!=2:\n",
    "        print(\"INVALID MOVE\")\n",
    "        continue\n",
    "    \n",
    "    if boat_side==\"Right\":\n",
    "        if missionary_on_right<missionary or cannibals_on_right<cannibals:\n",
    "            print(\"INVALID MOVE\")\n",
    "            continue\n",
    "        \n",
    "        missionary_on_right = missionary_on_right-missionary\n",
    "        cannibals_on_right = cannibals_on_right-cannibals\n",
    "        \n",
    "        missionary_on_left += missionary\n",
    "        cannibals_on_left += cannibals\n",
    "        #change the side of boat as boat travel from right to left\n",
    "        boat_side=\"Left\"\n",
    "        \n",
    "    else:\n",
    "         if missionary_on_left<missionary or cannibals_on_left<cannibals:\n",
    "            print(\"INVALID MOVE\")\n",
    "            continue\n",
    "        \n",
    "         missionary_on_left = missionary_on_left-missionary\n",
    "         cannibals_on_left = cannibals_on_left-cannibals\n",
    "        \n",
    "         missionary_on_right += missionary\n",
    "         cannibals_on_right += cannibals\n",
    "         #change the side of boat as boat travel from right to left\n",
    "         boat_side=\"Right\"\n",
    "         \n",
    "        #win or lose conditions\n",
    "        #win\n",
    "    if cannibals_on_left==3 and missionary_on_left==3:\n",
    "         print(\"HURRAY !! YOU WIN !!\")  \n",
    "         break\n",
    "        #lose\n",
    "    if (missionary_on_right<cannibals_on_right and missionary_on_right>0) or (missionary_on_left<cannibals_on_left and missionary_on_left>0):\n",
    "            print(\"OOPS !! YOU LOST !\")\n",
    "            break\n",
    "        \n",
    "     \n",
    "         \n",
    "         \n",
    "            \n",
    "         "
   ]
  }
 ],
 "metadata": {
  "kernelspec": {
   "display_name": "Python 3",
   "language": "python",
   "name": "python3"
  },
  "language_info": {
   "codemirror_mode": {
    "name": "ipython",
    "version": 3
   },
   "file_extension": ".py",
   "mimetype": "text/x-python",
   "name": "python",
   "nbconvert_exporter": "python",
   "pygments_lexer": "ipython3",
   "version": "3.11.5"
  }
 },
 "nbformat": 4,
 "nbformat_minor": 2
}
